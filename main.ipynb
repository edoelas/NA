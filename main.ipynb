{
 "cells": [
  {
   "cell_type": "code",
   "execution_count": 1,
   "metadata": {},
   "outputs": [],
   "source": [
    "%load_ext autoreload\n",
    "%autoreload 2"
   ]
  },
  {
   "cell_type": "code",
   "execution_count": 1,
   "metadata": {},
   "outputs": [],
   "source": [
    "from Managers.GameDirector import GameDirector\n",
    "from Bots import RandomBot, AlexPastorBot, EdoBot, AdrianHerasBot\n",
    "import pandas as pd\n",
    "from tqdm import tqdm\n",
    "import random\n",
    "\n",
    "# bots_configs = [\n",
    "#     [EdoBot.EdoBot, RandomBot.RandomBot, RandomBot.RandomBot, RandomBot.RandomBot],\n",
    "#     [EdoBot.EdoBot, AlexPastorBot.AlexPastorBot, AlexPastorBot.AlexPastorBot, AlexPastorBot.AlexPastorBot],\n",
    "#     # [EdoBot.EdoBot, AdrianHerasBot.AdrianHerasBot, AdrianHerasBot.AdrianHerasBot, AdrianHerasBot.AdrianHerasBot],\n",
    "#     [EdoBot.EdoBot, EdoBot.EdoBot, RandomBot.RandomBot, RandomBot.RandomBot],\n",
    "#     [EdoBot.EdoBot, EdoBot.EdoBot, AlexPastorBot.AlexPastorBot, AlexPastorBot.AlexPastorBot],\n",
    "#     # [EdoBot.EdoBot, EdoBot.EdoBot, AdrianHerasBot.AdrianHerasBot, AdrianHerasBot.AdrianHerasBot],\n",
    "#     [EdoBot.EdoBot, EdoBot.EdoBot, EdoBot.EdoBot, RandomBot.RandomBot],\n",
    "#     [EdoBot.EdoBot, EdoBot.EdoBot, EdoBot.EdoBot, AlexPastorBot.AlexPastorBot],\n",
    "#     # [EdoBot.EdoBot, EdoBot.EdoBot, EdoBot.EdoBot, AdrianHerasBot.AdrianHerasBot],\n",
    "#     ]\n",
    "\n",
    "bots_configs = [\n",
    "    [EdoBot.EdoBot, RandomBot.RandomBot, RandomBot.RandomBot, RandomBot.RandomBot],\n",
    "    # [EdoBot.EdoBot, AlexPastorBot.AlexPastorBot, AlexPastorBot.AlexPastorBot, AlexPastorBot.AlexPastorBot],\n",
    "    # [EdoBot.EdoBot, EdoBot.EdoBot, RandomBot.RandomBot, RandomBot.RandomBot],\n",
    "    # [EdoBot.EdoBot, EdoBot.EdoBot, EdoBot.EdoBot, RandomBot.RandomBot],\n",
    "    ]\n",
    "\n",
    "def shuffle_bots(bots):\n",
    "    names = [f\"{bot.__name__}_{j}\" for j, bot in enumerate(bots)]\n",
    "    temp = list(zip(names, bots))\n",
    "    # random.shuffle(temp)\n",
    "    res1, res2 = zip(*temp)\n",
    "    names, bots = list(res1), list(res2)\n",
    "    return names, bots\n",
    "\n",
    "def play_single_game(bots):\n",
    "    names, bots = shuffle_bots(bots)\n",
    "    game_director = GameDirector(bots = bots)\n",
    "    game_director.game_start(0)\n",
    "    last_round = list(game_director.trace_loader.current_trace[\"game\"].values())[-1]\n",
    "    last_turn = list(last_round.values())[-1]\n",
    "    points = list(last_turn[\"end_turn\"][\"victory_points\"].values())\n",
    "    points = [int(point) for point in points]\n",
    "    return {name: points[i] for i, name in enumerate(names)}\n",
    "\n",
    "\n",
    "def play_set_of_games(bots, games_to_play=100):\n",
    "    return [play_single_game(bots) for i in tqdm(range(games_to_play))]"
   ]
  },
  {
   "cell_type": "code",
   "execution_count": 29,
   "metadata": {},
   "outputs": [
    {
     "name": "stderr",
     "output_type": "stream",
     "text": [
      "  6%|▌         | 6/100 [02:25<38:05, 24.32s/it]\n"
     ]
    },
    {
     "ename": "IndexError",
     "evalue": "list index out of range",
     "output_type": "error",
     "traceback": [
      "\u001b[1;31m---------------------------------------------------------------------------\u001b[0m",
      "\u001b[1;31mIndexError\u001b[0m                                Traceback (most recent call last)",
      "Cell \u001b[1;32mIn[29], line 4\u001b[0m\n\u001b[0;32m      1\u001b[0m \u001b[38;5;28;01mfrom\u001b[39;00m \u001b[38;5;21;01mjoblib\u001b[39;00m \u001b[38;5;28;01mimport\u001b[39;00m delayed, Parallel\n\u001b[0;32m      3\u001b[0m \u001b[38;5;66;03m# results_list = Parallel(n_jobs=3)(delayed(play_set_of_games)(bots) for bots in bots_configs)\u001b[39;00m\n\u001b[1;32m----> 4\u001b[0m results_list \u001b[38;5;241m=\u001b[39m [ play_set_of_games(bots) \u001b[38;5;28;01mfor\u001b[39;00m bots \u001b[38;5;129;01min\u001b[39;00m bots_configs]\n\u001b[0;32m      6\u001b[0m \u001b[38;5;28;01mfor\u001b[39;00m results \u001b[38;5;129;01min\u001b[39;00m results_list:\n\u001b[0;32m      7\u001b[0m     df \u001b[38;5;241m=\u001b[39m pd\u001b[38;5;241m.\u001b[39mDataFrame(results)\n",
      "Cell \u001b[1;32mIn[29], line 4\u001b[0m, in \u001b[0;36m<listcomp>\u001b[1;34m(.0)\u001b[0m\n\u001b[0;32m      1\u001b[0m \u001b[38;5;28;01mfrom\u001b[39;00m \u001b[38;5;21;01mjoblib\u001b[39;00m \u001b[38;5;28;01mimport\u001b[39;00m delayed, Parallel\n\u001b[0;32m      3\u001b[0m \u001b[38;5;66;03m# results_list = Parallel(n_jobs=3)(delayed(play_set_of_games)(bots) for bots in bots_configs)\u001b[39;00m\n\u001b[1;32m----> 4\u001b[0m results_list \u001b[38;5;241m=\u001b[39m [ \u001b[43mplay_set_of_games\u001b[49m\u001b[43m(\u001b[49m\u001b[43mbots\u001b[49m\u001b[43m)\u001b[49m \u001b[38;5;28;01mfor\u001b[39;00m bots \u001b[38;5;129;01min\u001b[39;00m bots_configs]\n\u001b[0;32m      6\u001b[0m \u001b[38;5;28;01mfor\u001b[39;00m results \u001b[38;5;129;01min\u001b[39;00m results_list:\n\u001b[0;32m      7\u001b[0m     df \u001b[38;5;241m=\u001b[39m pd\u001b[38;5;241m.\u001b[39mDataFrame(results)\n",
      "Cell \u001b[1;32mIn[1], line 46\u001b[0m, in \u001b[0;36mplay_set_of_games\u001b[1;34m(bots, games_to_play)\u001b[0m\n\u001b[0;32m     45\u001b[0m \u001b[38;5;28;01mdef\u001b[39;00m \u001b[38;5;21mplay_set_of_games\u001b[39m(bots, games_to_play\u001b[38;5;241m=\u001b[39m\u001b[38;5;241m100\u001b[39m):\n\u001b[1;32m---> 46\u001b[0m     \u001b[38;5;28;01mreturn\u001b[39;00m [play_single_game(bots) \u001b[38;5;28;01mfor\u001b[39;00m i \u001b[38;5;129;01min\u001b[39;00m tqdm(\u001b[38;5;28mrange\u001b[39m(games_to_play))]\n",
      "Cell \u001b[1;32mIn[1], line 46\u001b[0m, in \u001b[0;36m<listcomp>\u001b[1;34m(.0)\u001b[0m\n\u001b[0;32m     45\u001b[0m \u001b[38;5;28;01mdef\u001b[39;00m \u001b[38;5;21mplay_set_of_games\u001b[39m(bots, games_to_play\u001b[38;5;241m=\u001b[39m\u001b[38;5;241m100\u001b[39m):\n\u001b[1;32m---> 46\u001b[0m     \u001b[38;5;28;01mreturn\u001b[39;00m [\u001b[43mplay_single_game\u001b[49m\u001b[43m(\u001b[49m\u001b[43mbots\u001b[49m\u001b[43m)\u001b[49m \u001b[38;5;28;01mfor\u001b[39;00m i \u001b[38;5;129;01min\u001b[39;00m tqdm(\u001b[38;5;28mrange\u001b[39m(games_to_play))]\n",
      "Cell \u001b[1;32mIn[1], line 37\u001b[0m, in \u001b[0;36mplay_single_game\u001b[1;34m(bots)\u001b[0m\n\u001b[0;32m     35\u001b[0m names, bots \u001b[38;5;241m=\u001b[39m shuffle_bots(bots)\n\u001b[0;32m     36\u001b[0m game_director \u001b[38;5;241m=\u001b[39m GameDirector(bots \u001b[38;5;241m=\u001b[39m bots)\n\u001b[1;32m---> 37\u001b[0m \u001b[43mgame_director\u001b[49m\u001b[38;5;241;43m.\u001b[39;49m\u001b[43mgame_start\u001b[49m\u001b[43m(\u001b[49m\u001b[38;5;241;43m0\u001b[39;49m\u001b[43m)\u001b[49m\n\u001b[0;32m     38\u001b[0m last_round \u001b[38;5;241m=\u001b[39m \u001b[38;5;28mlist\u001b[39m(game_director\u001b[38;5;241m.\u001b[39mtrace_loader\u001b[38;5;241m.\u001b[39mcurrent_trace[\u001b[38;5;124m\"\u001b[39m\u001b[38;5;124mgame\u001b[39m\u001b[38;5;124m\"\u001b[39m]\u001b[38;5;241m.\u001b[39mvalues())[\u001b[38;5;241m-\u001b[39m\u001b[38;5;241m1\u001b[39m]\n\u001b[0;32m     39\u001b[0m last_turn \u001b[38;5;241m=\u001b[39m \u001b[38;5;28mlist\u001b[39m(last_round\u001b[38;5;241m.\u001b[39mvalues())[\u001b[38;5;241m-\u001b[39m\u001b[38;5;241m1\u001b[39m]\n",
      "File \u001b[1;32mc:\\Users\\edoelas\\git\\MUIARFID\\NA\\Managers\\GameDirector.py:237\u001b[0m, in \u001b[0;36mGameDirector.game_start\u001b[1;34m(self, game_number)\u001b[0m\n\u001b[0;32m    234\u001b[0m     setup_object[\u001b[38;5;124m\"\u001b[39m\u001b[38;5;124mP\u001b[39m\u001b[38;5;124m\"\u001b[39m \u001b[38;5;241m+\u001b[39m \u001b[38;5;28mstr\u001b[39m(i)]\u001b[38;5;241m.\u001b[39mappend({\u001b[38;5;124m\"\u001b[39m\u001b[38;5;124mid\u001b[39m\u001b[38;5;124m\"\u001b[39m: node_id, \u001b[38;5;124m\"\u001b[39m\u001b[38;5;124mroad\u001b[39m\u001b[38;5;124m\"\u001b[39m: road_to})\n\u001b[0;32m    236\u001b[0m \u001b[38;5;28mself\u001b[39m\u001b[38;5;241m.\u001b[39mtrace_loader\u001b[38;5;241m.\u001b[39mcurrent_trace[\u001b[38;5;124m\"\u001b[39m\u001b[38;5;124msetup\u001b[39m\u001b[38;5;124m\"\u001b[39m] \u001b[38;5;241m=\u001b[39m setup_object\n\u001b[1;32m--> 237\u001b[0m \u001b[38;5;28;43mself\u001b[39;49m\u001b[38;5;241;43m.\u001b[39;49m\u001b[43mgame_loop\u001b[49m\u001b[43m(\u001b[49m\u001b[43mgame_number\u001b[49m\u001b[43m)\u001b[49m\n\u001b[0;32m    238\u001b[0m \u001b[38;5;28;01mreturn\u001b[39;00m\n",
      "File \u001b[1;32mc:\\Users\\edoelas\\git\\MUIARFID\\NA\\Managers\\GameDirector.py:248\u001b[0m, in \u001b[0;36mGameDirector.game_loop\u001b[1;34m(self, game_number)\u001b[0m\n\u001b[0;32m    246\u001b[0m winner \u001b[38;5;241m=\u001b[39m \u001b[38;5;28;01mFalse\u001b[39;00m\n\u001b[0;32m    247\u001b[0m \u001b[38;5;28;01mwhile\u001b[39;00m \u001b[38;5;129;01mnot\u001b[39;00m winner:\n\u001b[1;32m--> 248\u001b[0m     game_object[\u001b[38;5;124m'\u001b[39m\u001b[38;5;124mround_\u001b[39m\u001b[38;5;124m'\u001b[39m \u001b[38;5;241m+\u001b[39m \u001b[38;5;28mstr\u001b[39m(\u001b[38;5;28mself\u001b[39m\u001b[38;5;241m.\u001b[39mgame_manager\u001b[38;5;241m.\u001b[39mget_round())], winner \u001b[38;5;241m=\u001b[39m \u001b[38;5;28;43mself\u001b[39;49m\u001b[38;5;241;43m.\u001b[39;49m\u001b[43mround_start\u001b[49m\u001b[43m(\u001b[49m\u001b[43mwinner\u001b[49m\u001b[43m)\u001b[49m\n\u001b[0;32m    249\u001b[0m     \u001b[38;5;28mself\u001b[39m\u001b[38;5;241m.\u001b[39mgame_manager\u001b[38;5;241m.\u001b[39mset_round(\u001b[38;5;28mself\u001b[39m\u001b[38;5;241m.\u001b[39mgame_manager\u001b[38;5;241m.\u001b[39mget_round() \u001b[38;5;241m+\u001b[39m \u001b[38;5;241m1\u001b[39m)\n\u001b[0;32m    251\u001b[0m \u001b[38;5;66;03m# print('Game (' + str(game_number) + ') results')\u001b[39;00m\n\u001b[0;32m    252\u001b[0m \u001b[38;5;66;03m# for i in range(4):\u001b[39;00m\n\u001b[0;32m    253\u001b[0m \u001b[38;5;66;03m#     print('J' + str(i) + ': ' + str(self.game_manager.get_players()[i]['victory_points']) + ' (' +\u001b[39;00m\n\u001b[0;32m    254\u001b[0m \u001b[38;5;66;03m#           str(self.game_manager.get_players()[i]['largest_army']) + ')' + ' (' +\u001b[39;00m\n\u001b[0;32m    255\u001b[0m \u001b[38;5;66;03m#           str(self.game_manager.get_players()[i]['longest_road']) + ')')\u001b[39;00m\n",
      "File \u001b[1;32mc:\\Users\\edoelas\\git\\MUIARFID\\NA\\Managers\\GameDirector.py:184\u001b[0m, in \u001b[0;36mGameDirector.round_start\u001b[1;34m(self, winner)\u001b[0m\n\u001b[0;32m    182\u001b[0m building \u001b[38;5;241m=\u001b[39m \u001b[38;5;28;01mTrue\u001b[39;00m\n\u001b[0;32m    183\u001b[0m \u001b[38;5;28;01mwhile\u001b[39;00m building \u001b[38;5;129;01mand\u001b[39;00m \u001b[38;5;129;01mnot\u001b[39;00m winner:\n\u001b[1;32m--> 184\u001b[0m     build_phase_object, winner \u001b[38;5;241m=\u001b[39m \u001b[38;5;28;43mself\u001b[39;49m\u001b[38;5;241;43m.\u001b[39;49m\u001b[43mstart_build_phase\u001b[49m\u001b[43m(\u001b[49m\u001b[43mwinner\u001b[49m\u001b[43m,\u001b[49m\n\u001b[0;32m    185\u001b[0m \u001b[43m                                                        \u001b[49m\u001b[38;5;28;43mself\u001b[39;49m\u001b[38;5;241;43m.\u001b[39;49m\u001b[43mgame_manager\u001b[49m\u001b[38;5;241;43m.\u001b[39;49m\u001b[43mget_whose_turn_is_it\u001b[49m\u001b[43m(\u001b[49m\u001b[43m)\u001b[49m\u001b[43m)\u001b[49m\n\u001b[0;32m    186\u001b[0m     build_phase_array\u001b[38;5;241m.\u001b[39mappend(build_phase_object)\n\u001b[0;32m    187\u001b[0m     \u001b[38;5;28;01mif\u001b[39;00m build_phase_object[\u001b[38;5;124m'\u001b[39m\u001b[38;5;124mbuilding\u001b[39m\u001b[38;5;124m'\u001b[39m] \u001b[38;5;241m==\u001b[39m \u001b[38;5;124m'\u001b[39m\u001b[38;5;124mNone\u001b[39m\u001b[38;5;124m'\u001b[39m \u001b[38;5;129;01mor\u001b[39;00m \u001b[38;5;129;01mnot\u001b[39;00m build_phase_object[\u001b[38;5;124m'\u001b[39m\u001b[38;5;124mfinished\u001b[39m\u001b[38;5;124m'\u001b[39m]:\n",
      "File \u001b[1;32mc:\\Users\\edoelas\\git\\MUIARFID\\NA\\Managers\\GameDirector.py:140\u001b[0m, in \u001b[0;36mGameDirector.start_build_phase\u001b[1;34m(self, winner, player)\u001b[0m\n\u001b[0;32m    136\u001b[0m build_phase_object \u001b[38;5;241m=\u001b[39m {}\n\u001b[0;32m    138\u001b[0m \u001b[38;5;28mself\u001b[39m\u001b[38;5;241m.\u001b[39mgame_manager\u001b[38;5;241m.\u001b[39mset_phase(\u001b[38;5;241m2\u001b[39m)\n\u001b[1;32m--> 140\u001b[0m build_response \u001b[38;5;241m=\u001b[39m \u001b[38;5;28;43mself\u001b[39;49m\u001b[38;5;241;43m.\u001b[39;49m\u001b[43mgame_manager\u001b[49m\u001b[38;5;241;43m.\u001b[39;49m\u001b[43mcall_to_bot_on_build_phase\u001b[49m\u001b[43m(\u001b[49m\u001b[43mplayer\u001b[49m\u001b[43m)\u001b[49m\n\u001b[0;32m    142\u001b[0m build_phase_object, winner \u001b[38;5;241m=\u001b[39m \u001b[38;5;28mself\u001b[39m\u001b[38;5;241m.\u001b[39mgame_manager\u001b[38;5;241m.\u001b[39mbuild_phase_object(build_phase_object, build_response, player,\n\u001b[0;32m    143\u001b[0m                                                                   winner)\n\u001b[0;32m    145\u001b[0m \u001b[38;5;28;01mreturn\u001b[39;00m build_phase_object, winner\n",
      "File \u001b[1;32mc:\\Users\\edoelas\\git\\MUIARFID\\NA\\Managers\\GameManager.py:752\u001b[0m, in \u001b[0;36mGameManager.call_to_bot_on_build_phase\u001b[1;34m(self, player_id)\u001b[0m\n\u001b[0;32m    747\u001b[0m \u001b[38;5;28;01mdef\u001b[39;00m \u001b[38;5;21mcall_to_bot_on_build_phase\u001b[39m(\u001b[38;5;28mself\u001b[39m, player_id):\n\u001b[0;32m    748\u001b[0m \u001b[38;5;250m    \u001b[39m\u001b[38;5;124;03m\"\"\"\u001b[39;00m\n\u001b[0;32m    749\u001b[0m \u001b[38;5;124;03m    :param player_id: int\u001b[39;00m\n\u001b[0;32m    750\u001b[0m \u001b[38;5;124;03m    :return: dict{'building': str, 'node_id': int, 'road_to': int/None}, None\u001b[39;00m\n\u001b[0;32m    751\u001b[0m \u001b[38;5;124;03m    \"\"\"\u001b[39;00m\n\u001b[1;32m--> 752\u001b[0m     \u001b[38;5;28;01mreturn\u001b[39;00m \u001b[38;5;28;43mself\u001b[39;49m\u001b[38;5;241;43m.\u001b[39;49m\u001b[43mbot_manager\u001b[49m\u001b[38;5;241;43m.\u001b[39;49m\u001b[43mplayers\u001b[49m\u001b[43m[\u001b[49m\u001b[43mplayer_id\u001b[49m\u001b[43m]\u001b[49m\u001b[43m[\u001b[49m\u001b[38;5;124;43m'\u001b[39;49m\u001b[38;5;124;43mplayer\u001b[39;49m\u001b[38;5;124;43m'\u001b[39;49m\u001b[43m]\u001b[49m\u001b[38;5;241;43m.\u001b[39;49m\u001b[43mon_build_phase\u001b[49m\u001b[43m(\u001b[49m\u001b[38;5;28;43mself\u001b[39;49m\u001b[38;5;241;43m.\u001b[39;49m\u001b[43mboard\u001b[49m\u001b[43m)\u001b[49m\n",
      "File \u001b[1;32mc:\\Users\\edoelas\\git\\MUIARFID\\NA\\Bots\\EdoBot.py:141\u001b[0m, in \u001b[0;36mEdoBot.on_build_phase\u001b[1;34m(self, board_instance)\u001b[0m\n\u001b[0;32m    138\u001b[0m \u001b[38;5;28;01mdef\u001b[39;00m \u001b[38;5;21mon_build_phase\u001b[39m(\u001b[38;5;28mself\u001b[39m, board_instance):\n\u001b[0;32m    139\u001b[0m     \u001b[38;5;28mself\u001b[39m\u001b[38;5;241m.\u001b[39mboard \u001b[38;5;241m=\u001b[39m board_instance\n\u001b[1;32m--> 141\u001b[0m     goal \u001b[38;5;241m=\u001b[39m \u001b[38;5;28;43mself\u001b[39;49m\u001b[38;5;241;43m.\u001b[39;49m\u001b[43mgoals\u001b[49m\u001b[43m[\u001b[49m\u001b[38;5;241;43m0\u001b[39;49m\u001b[43m]\u001b[49m\n\u001b[0;32m    143\u001b[0m     \u001b[38;5;28;01mif\u001b[39;00m goal \u001b[38;5;241m==\u001b[39m \u001b[38;5;124m\"\u001b[39m\u001b[38;5;124mbuild_town\u001b[39m\u001b[38;5;124m\"\u001b[39m \u001b[38;5;129;01mand\u001b[39;00m \u001b[38;5;28mself\u001b[39m\u001b[38;5;241m.\u001b[39mhand\u001b[38;5;241m.\u001b[39mresources\u001b[38;5;241m.\u001b[39mhas_this_more_materials(\u001b[38;5;124m'\u001b[39m\u001b[38;5;124mtown\u001b[39m\u001b[38;5;124m'\u001b[39m):\n\u001b[0;32m    144\u001b[0m         valid_nodes \u001b[38;5;241m=\u001b[39m \u001b[38;5;28mself\u001b[39m\u001b[38;5;241m.\u001b[39mboard\u001b[38;5;241m.\u001b[39mvalid_town_nodes(\u001b[38;5;28mself\u001b[39m\u001b[38;5;241m.\u001b[39mid)\n",
      "\u001b[1;31mIndexError\u001b[0m: list index out of range"
     ]
    }
   ],
   "source": [
    "from joblib import delayed, Parallel\n",
    "\n",
    "# results_list = Parallel(n_jobs=3)(delayed(play_set_of_games)(bots) for bots in bots_configs)\n",
    "results_list = [ play_set_of_games(bots) for bots in bots_configs]\n",
    "\n",
    "for results in results_list:\n",
    "    df = pd.DataFrame(results)\n",
    "    max_counts = dict(df.idxmax(axis=1).value_counts())\n",
    "    bot_wins = {bot: max_counts.get(bot, 0)/len(df.index)*100 for bot in list(df.columns)}\n",
    "\n",
    "    display(pd.DataFrame(bot_wins, index=[\"% wins\"]).T)"
   ]
  },
  {
   "cell_type": "code",
   "execution_count": 21,
   "metadata": {},
   "outputs": [
    {
     "name": "stdout",
     "output_type": "stream",
     "text": [
      "{'AdrianHerasBot_0': 10, 'RandomBot_1': 4, 'RandomBot_2': 2, 'RandomBot_3': 2}\n",
      "AdrianHerasBot_0\n"
     ]
    }
   ],
   "source": [
    "from Bots.helpers import *\n",
    "from Bots.logger import *\n",
    "from IPython.display import HTML\n",
    "\n",
    "clear_log_data()\n",
    "points = play_single_game([EdoBot.EdoBot, RandomBot.RandomBot, RandomBot.RandomBot, RandomBot.RandomBot])\n",
    "winer = max(points, key=points.get)\n",
    "print(points)\n",
    "print(winer)\n",
    "\n",
    "# log_data = get_log_df()\n",
    "# display_df = log_data[[\"id\",\"materials\", \"goal_1\", \"goal_2\", \"trade_1\", \"trade_2\", \"trade_3\", \"events\"]].head(50)\n",
    "# display(log_data.goal_1.value_counts())\n",
    "\n",
    "# display( HTML( display_df.to_html().replace(\"\\\\n\",\"<br>\") ))"
   ]
  },
  {
   "cell_type": "code",
   "execution_count": 22,
   "metadata": {},
   "outputs": [
    {
     "name": "stdout",
     "output_type": "stream",
     "text": [
      "mine:  0\n",
      "total:  0\n"
     ]
    }
   ],
   "source": [
    "import os\n",
    "from jsonpath_ng import jsonpath, parse\n",
    "from jsonpath_ng.ext import parse\n",
    "import json\n",
    "\n",
    "folder_path = \"traces\"\n",
    "folders = [f for f in os.listdir(folder_path) if os.path.isdir(os.path.join(folder_path, f))]\n",
    "folders.sort()\n",
    "tmp_path = os.path.join(folder_path, folders[-1],\"game_0.json\")\n",
    "jsonpath_expr_mine = parse('game.*.turn_P0.commerce_phase[*].answers[*][*].completed')\n",
    "jsonpath_expr_total = parse('game.*.*.commerce_phase[*].answers[*][*].completed')\n",
    "\n",
    "# read file in path and save it in a variable\n",
    "with open(tmp_path) as f:\n",
    "    data = json.load(f)\n",
    "    matches = [match.value for match in jsonpath_expr_mine.find(data)]\n",
    "    print(\"mine: \",sum(matches))\n",
    "    matches = [match.value for match in jsonpath_expr_total.find(data)]\n",
    "    print(\"total: \",sum(matches))\n"
   ]
  },
  {
   "cell_type": "code",
   "execution_count": null,
   "metadata": {},
   "outputs": [],
   "source": []
  }
 ],
 "metadata": {
  "kernelspec": {
   "display_name": ".venv",
   "language": "python",
   "name": "python3"
  },
  "language_info": {
   "codemirror_mode": {
    "name": "ipython",
    "version": 3
   },
   "file_extension": ".py",
   "mimetype": "text/x-python",
   "name": "python",
   "nbconvert_exporter": "python",
   "pygments_lexer": "ipython3",
   "version": "3.10.13"
  }
 },
 "nbformat": 4,
 "nbformat_minor": 2
}
