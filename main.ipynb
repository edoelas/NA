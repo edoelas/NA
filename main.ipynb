{
 "cells": [
  {
   "cell_type": "code",
   "execution_count": 1,
   "metadata": {},
   "outputs": [],
   "source": [
    "%load_ext autoreload\n",
    "%autoreload 2"
   ]
  },
  {
   "cell_type": "code",
   "execution_count": 6,
   "metadata": {},
   "outputs": [],
   "source": [
    "from Managers.GameDirector import GameDirector\n",
    "from Bots import RandomBot, AlexPastorBot, EdoBot, AdrianHerasBot\n",
    "import pandas as pd\n",
    "from tqdm import tqdm\n",
    "import random\n",
    "\n",
    "bots_configs = [\n",
    "    [EdoBot.EdoBot, RandomBot.RandomBot, RandomBot.RandomBot, RandomBot.RandomBot],\n",
    "    [EdoBot.EdoBot, AlexPastorBot.AlexPastorBot, AlexPastorBot.AlexPastorBot, AlexPastorBot.AlexPastorBot],\n",
    "    # [EdoBot.EdoBot, AdrianHerasBot.AdrianHerasBot, AdrianHerasBot.AdrianHerasBot, AdrianHerasBot.AdrianHerasBot],\n",
    "    [EdoBot.EdoBot, EdoBot.EdoBot, RandomBot.RandomBot, RandomBot.RandomBot],\n",
    "    [EdoBot.EdoBot, EdoBot.EdoBot, AlexPastorBot.AlexPastorBot, AlexPastorBot.AlexPastorBot],\n",
    "    # [EdoBot.EdoBot, EdoBot.EdoBot, AdrianHerasBot.AdrianHerasBot, AdrianHerasBot.AdrianHerasBot],\n",
    "    [EdoBot.EdoBot, EdoBot.EdoBot, EdoBot.EdoBot, RandomBot.RandomBot],\n",
    "    [EdoBot.EdoBot, EdoBot.EdoBot, EdoBot.EdoBot, AlexPastorBot.AlexPastorBot],\n",
    "    # [EdoBot.EdoBot, EdoBot.EdoBot, EdoBot.EdoBot, AdrianHerasBot.AdrianHerasBot],\n",
    "    ]\n",
    "\n",
    "def shuffle_bots(bots):\n",
    "    names = [f\"{bot.__name__}_{j}\" for j, bot in enumerate(bots)]\n",
    "    temp = list(zip(names, bots))\n",
    "    random.shuffle(temp)\n",
    "    res1, res2 = zip(*temp)\n",
    "    names, bots = list(res1), list(res2)\n",
    "    return names, bots\n",
    "\n",
    "def play_single_game(bots):\n",
    "    names, bots = shuffle_bots(bots)\n",
    "    game_director = GameDirector(bots = bots)\n",
    "    game_director.game_start(0)\n",
    "    last_round = list(game_director.trace_loader.current_trace[\"game\"].values())[-1]\n",
    "    last_turn = list(last_round.values())[-1]\n",
    "    points = list(last_turn[\"end_turn\"][\"victory_points\"].values())\n",
    "    points = [int(point) for point in points]\n",
    "    return {name: points[i] for i, name in enumerate(names)}\n",
    "\n",
    "\n",
    "def play_set_of_games(bots, games_to_play=100):\n",
    "    return [play_single_game(bots) for i in tqdm(range(games_to_play))]"
   ]
  },
  {
   "cell_type": "code",
   "execution_count": 8,
   "metadata": {},
   "outputs": [
    {
     "name": "stderr",
     "output_type": "stream",
     "text": [
      "100%|██████████| 100/100 [00:11<00:00,  8.54it/s]\n",
      "100%|██████████| 100/100 [00:12<00:00,  8.26it/s]\n",
      "100%|██████████| 100/100 [00:09<00:00, 11.10it/s]\n",
      " 92%|█████████▏| 92/100 [00:12<00:00,  9.64it/s]"
     ]
    },
    {
     "ename": "ValueError",
     "evalue": "empty range for randrange() (0, 0, 0)",
     "output_type": "error",
     "traceback": [
      "\u001b[1;31m---------------------------------------------------------------------------\u001b[0m",
      "\u001b[1;31mValueError\u001b[0m                                Traceback (most recent call last)",
      "Cell \u001b[1;32mIn[8], line 4\u001b[0m\n\u001b[0;32m      1\u001b[0m \u001b[38;5;28;01mfrom\u001b[39;00m \u001b[38;5;21;01mjoblib\u001b[39;00m \u001b[38;5;28;01mimport\u001b[39;00m delayed, Parallel\n\u001b[0;32m      3\u001b[0m \u001b[38;5;66;03m# results_list = Parallel(n_jobs=6)(delayed(play_set_of_games)(bots) for bots in bots_configs)\u001b[39;00m\n\u001b[1;32m----> 4\u001b[0m results_list \u001b[38;5;241m=\u001b[39m [ play_set_of_games(bots) \u001b[38;5;28;01mfor\u001b[39;00m bots \u001b[38;5;129;01min\u001b[39;00m bots_configs]\n\u001b[0;32m      6\u001b[0m \u001b[38;5;28;01mfor\u001b[39;00m results \u001b[38;5;129;01min\u001b[39;00m results_list:\n\u001b[0;32m      7\u001b[0m     df \u001b[38;5;241m=\u001b[39m pd\u001b[38;5;241m.\u001b[39mDataFrame(results)\n",
      "Cell \u001b[1;32mIn[8], line 4\u001b[0m, in \u001b[0;36m<listcomp>\u001b[1;34m(.0)\u001b[0m\n\u001b[0;32m      1\u001b[0m \u001b[38;5;28;01mfrom\u001b[39;00m \u001b[38;5;21;01mjoblib\u001b[39;00m \u001b[38;5;28;01mimport\u001b[39;00m delayed, Parallel\n\u001b[0;32m      3\u001b[0m \u001b[38;5;66;03m# results_list = Parallel(n_jobs=6)(delayed(play_set_of_games)(bots) for bots in bots_configs)\u001b[39;00m\n\u001b[1;32m----> 4\u001b[0m results_list \u001b[38;5;241m=\u001b[39m [ \u001b[43mplay_set_of_games\u001b[49m\u001b[43m(\u001b[49m\u001b[43mbots\u001b[49m\u001b[43m)\u001b[49m \u001b[38;5;28;01mfor\u001b[39;00m bots \u001b[38;5;129;01min\u001b[39;00m bots_configs]\n\u001b[0;32m      6\u001b[0m \u001b[38;5;28;01mfor\u001b[39;00m results \u001b[38;5;129;01min\u001b[39;00m results_list:\n\u001b[0;32m      7\u001b[0m     df \u001b[38;5;241m=\u001b[39m pd\u001b[38;5;241m.\u001b[39mDataFrame(results)\n",
      "Cell \u001b[1;32mIn[6], line 39\u001b[0m, in \u001b[0;36mplay_set_of_games\u001b[1;34m(bots, games_to_play)\u001b[0m\n\u001b[0;32m     38\u001b[0m \u001b[38;5;28;01mdef\u001b[39;00m \u001b[38;5;21mplay_set_of_games\u001b[39m(bots, games_to_play\u001b[38;5;241m=\u001b[39m\u001b[38;5;241m100\u001b[39m):\n\u001b[1;32m---> 39\u001b[0m     \u001b[38;5;28;01mreturn\u001b[39;00m [play_single_game(bots) \u001b[38;5;28;01mfor\u001b[39;00m i \u001b[38;5;129;01min\u001b[39;00m tqdm(\u001b[38;5;28mrange\u001b[39m(games_to_play))]\n",
      "Cell \u001b[1;32mIn[6], line 39\u001b[0m, in \u001b[0;36m<listcomp>\u001b[1;34m(.0)\u001b[0m\n\u001b[0;32m     38\u001b[0m \u001b[38;5;28;01mdef\u001b[39;00m \u001b[38;5;21mplay_set_of_games\u001b[39m(bots, games_to_play\u001b[38;5;241m=\u001b[39m\u001b[38;5;241m100\u001b[39m):\n\u001b[1;32m---> 39\u001b[0m     \u001b[38;5;28;01mreturn\u001b[39;00m [\u001b[43mplay_single_game\u001b[49m\u001b[43m(\u001b[49m\u001b[43mbots\u001b[49m\u001b[43m)\u001b[49m \u001b[38;5;28;01mfor\u001b[39;00m i \u001b[38;5;129;01min\u001b[39;00m tqdm(\u001b[38;5;28mrange\u001b[39m(games_to_play))]\n",
      "Cell \u001b[1;32mIn[6], line 30\u001b[0m, in \u001b[0;36mplay_single_game\u001b[1;34m(bots)\u001b[0m\n\u001b[0;32m     28\u001b[0m names, bots \u001b[38;5;241m=\u001b[39m shuffle_bots(bots)\n\u001b[0;32m     29\u001b[0m game_director \u001b[38;5;241m=\u001b[39m GameDirector(bots \u001b[38;5;241m=\u001b[39m bots)\n\u001b[1;32m---> 30\u001b[0m \u001b[43mgame_director\u001b[49m\u001b[38;5;241;43m.\u001b[39;49m\u001b[43mgame_start\u001b[49m\u001b[43m(\u001b[49m\u001b[38;5;241;43m0\u001b[39;49m\u001b[43m)\u001b[49m\n\u001b[0;32m     31\u001b[0m last_round \u001b[38;5;241m=\u001b[39m \u001b[38;5;28mlist\u001b[39m(game_director\u001b[38;5;241m.\u001b[39mtrace_loader\u001b[38;5;241m.\u001b[39mcurrent_trace[\u001b[38;5;124m\"\u001b[39m\u001b[38;5;124mgame\u001b[39m\u001b[38;5;124m\"\u001b[39m]\u001b[38;5;241m.\u001b[39mvalues())[\u001b[38;5;241m-\u001b[39m\u001b[38;5;241m1\u001b[39m]\n\u001b[0;32m     32\u001b[0m last_turn \u001b[38;5;241m=\u001b[39m \u001b[38;5;28mlist\u001b[39m(last_round\u001b[38;5;241m.\u001b[39mvalues())[\u001b[38;5;241m-\u001b[39m\u001b[38;5;241m1\u001b[39m]\n",
      "File \u001b[1;32mc:\\Users\\edoelas\\git\\MUIARFID\\NA\\Managers\\GameDirector.py:233\u001b[0m, in \u001b[0;36mGameDirector.game_start\u001b[1;34m(self, game_number)\u001b[0m\n\u001b[0;32m    230\u001b[0m     \u001b[38;5;28mself\u001b[39m\u001b[38;5;241m.\u001b[39mgame_manager\u001b[38;5;241m.\u001b[39mset_whose_turn_is_it(i)\n\u001b[0;32m    232\u001b[0m     \u001b[38;5;66;03m# función recursiva a introducir\u001b[39;00m\n\u001b[1;32m--> 233\u001b[0m     node_id, road_to \u001b[38;5;241m=\u001b[39m \u001b[38;5;28;43mself\u001b[39;49m\u001b[38;5;241;43m.\u001b[39;49m\u001b[43mgame_manager\u001b[49m\u001b[38;5;241;43m.\u001b[39;49m\u001b[43mon_game_start_build_towns_and_roads\u001b[49m\u001b[43m(\u001b[49m\u001b[43mi\u001b[49m\u001b[43m)\u001b[49m\n\u001b[0;32m    234\u001b[0m     setup_object[\u001b[38;5;124m\"\u001b[39m\u001b[38;5;124mP\u001b[39m\u001b[38;5;124m\"\u001b[39m \u001b[38;5;241m+\u001b[39m \u001b[38;5;28mstr\u001b[39m(i)]\u001b[38;5;241m.\u001b[39mappend({\u001b[38;5;124m\"\u001b[39m\u001b[38;5;124mid\u001b[39m\u001b[38;5;124m\"\u001b[39m: node_id, \u001b[38;5;124m\"\u001b[39m\u001b[38;5;124mroad\u001b[39m\u001b[38;5;124m\"\u001b[39m: road_to})\n\u001b[0;32m    236\u001b[0m \u001b[38;5;28mself\u001b[39m\u001b[38;5;241m.\u001b[39mtrace_loader\u001b[38;5;241m.\u001b[39mcurrent_trace[\u001b[38;5;124m\"\u001b[39m\u001b[38;5;124msetup\u001b[39m\u001b[38;5;124m\"\u001b[39m] \u001b[38;5;241m=\u001b[39m setup_object\n",
      "File \u001b[1;32mc:\\Users\\edoelas\\git\\MUIARFID\\NA\\Managers\\GameManager.py:368\u001b[0m, in \u001b[0;36mGameManager.on_game_start_build_towns_and_roads\u001b[1;34m(self, player)\u001b[0m\n\u001b[0;32m    365\u001b[0m \u001b[38;5;28;01mif\u001b[39;00m node_id \u001b[38;5;129;01min\u001b[39;00m valid_nodes \u001b[38;5;129;01mor\u001b[39;00m count \u001b[38;5;241m==\u001b[39m \u001b[38;5;241m2\u001b[39m:\n\u001b[0;32m    367\u001b[0m     \u001b[38;5;28;01mif\u001b[39;00m count \u001b[38;5;241m==\u001b[39m \u001b[38;5;241m2\u001b[39m:\n\u001b[1;32m--> 368\u001b[0m         node_id \u001b[38;5;241m=\u001b[39m valid_nodes[\u001b[43mrandom\u001b[49m\u001b[38;5;241;43m.\u001b[39;49m\u001b[43mrandint\u001b[49m\u001b[43m(\u001b[49m\u001b[38;5;241;43m0\u001b[39;49m\u001b[43m,\u001b[49m\u001b[43m \u001b[49m\u001b[43m(\u001b[49m\u001b[38;5;28;43mlen\u001b[39;49m\u001b[43m(\u001b[49m\u001b[43mvalid_nodes\u001b[49m\u001b[43m)\u001b[49m\u001b[43m \u001b[49m\u001b[38;5;241;43m-\u001b[39;49m\u001b[43m \u001b[49m\u001b[38;5;241;43m1\u001b[39;49m\u001b[43m)\u001b[49m\u001b[43m)\u001b[49m]\n\u001b[0;32m    370\u001b[0m         possible_roads \u001b[38;5;241m=\u001b[39m \u001b[38;5;28mself\u001b[39m\u001b[38;5;241m.\u001b[39mboard\u001b[38;5;241m.\u001b[39mnodes[node_id][\u001b[38;5;124m'\u001b[39m\u001b[38;5;124madjacent\u001b[39m\u001b[38;5;124m'\u001b[39m]\n\u001b[0;32m    371\u001b[0m         road_to \u001b[38;5;241m=\u001b[39m possible_roads[random\u001b[38;5;241m.\u001b[39mrandint(\u001b[38;5;241m0\u001b[39m, \u001b[38;5;28mlen\u001b[39m(possible_roads) \u001b[38;5;241m-\u001b[39m \u001b[38;5;241m1\u001b[39m)]\n",
      "File \u001b[1;32mC:\\Program Files\\Blender Foundation\\Blender 4.0\\4.0\\python\\lib\\random.py:370\u001b[0m, in \u001b[0;36mRandom.randint\u001b[1;34m(self, a, b)\u001b[0m\n\u001b[0;32m    366\u001b[0m \u001b[38;5;28;01mdef\u001b[39;00m \u001b[38;5;21mrandint\u001b[39m(\u001b[38;5;28mself\u001b[39m, a, b):\n\u001b[0;32m    367\u001b[0m \u001b[38;5;250m    \u001b[39m\u001b[38;5;124;03m\"\"\"Return random integer in range [a, b], including both end points.\u001b[39;00m\n\u001b[0;32m    368\u001b[0m \u001b[38;5;124;03m    \"\"\"\u001b[39;00m\n\u001b[1;32m--> 370\u001b[0m     \u001b[38;5;28;01mreturn\u001b[39;00m \u001b[38;5;28;43mself\u001b[39;49m\u001b[38;5;241;43m.\u001b[39;49m\u001b[43mrandrange\u001b[49m\u001b[43m(\u001b[49m\u001b[43ma\u001b[49m\u001b[43m,\u001b[49m\u001b[43m \u001b[49m\u001b[43mb\u001b[49m\u001b[38;5;241;43m+\u001b[39;49m\u001b[38;5;241;43m1\u001b[39;49m\u001b[43m)\u001b[49m\n",
      "File \u001b[1;32mC:\\Program Files\\Blender Foundation\\Blender 4.0\\4.0\\python\\lib\\random.py:353\u001b[0m, in \u001b[0;36mRandom.randrange\u001b[1;34m(self, start, stop, step)\u001b[0m\n\u001b[0;32m    351\u001b[0m     \u001b[38;5;28;01mif\u001b[39;00m width \u001b[38;5;241m>\u001b[39m \u001b[38;5;241m0\u001b[39m:\n\u001b[0;32m    352\u001b[0m         \u001b[38;5;28;01mreturn\u001b[39;00m istart \u001b[38;5;241m+\u001b[39m \u001b[38;5;28mself\u001b[39m\u001b[38;5;241m.\u001b[39m_randbelow(width)\n\u001b[1;32m--> 353\u001b[0m     \u001b[38;5;28;01mraise\u001b[39;00m \u001b[38;5;167;01mValueError\u001b[39;00m(\u001b[38;5;124m\"\u001b[39m\u001b[38;5;124mempty range for randrange() (\u001b[39m\u001b[38;5;132;01m%d\u001b[39;00m\u001b[38;5;124m, \u001b[39m\u001b[38;5;132;01m%d\u001b[39;00m\u001b[38;5;124m, \u001b[39m\u001b[38;5;132;01m%d\u001b[39;00m\u001b[38;5;124m)\u001b[39m\u001b[38;5;124m\"\u001b[39m \u001b[38;5;241m%\u001b[39m (istart, istop, width))\n\u001b[0;32m    355\u001b[0m \u001b[38;5;66;03m# Non-unit step argument supplied.\u001b[39;00m\n\u001b[0;32m    356\u001b[0m \u001b[38;5;28;01mif\u001b[39;00m istep \u001b[38;5;241m>\u001b[39m \u001b[38;5;241m0\u001b[39m:\n",
      "\u001b[1;31mValueError\u001b[0m: empty range for randrange() (0, 0, 0)"
     ]
    },
    {
     "name": "stderr",
     "output_type": "stream",
     "text": [
      " 92%|█████████▏| 92/100 [00:28<00:00,  9.64it/s]"
     ]
    }
   ],
   "source": [
    "from joblib import delayed, Parallel\n",
    "\n",
    "# results_list = Parallel(n_jobs=6)(delayed(play_set_of_games)(bots) for bots in bots_configs)\n",
    "results_list = [ play_set_of_games(bots) for bots in bots_configs]\n",
    "\n",
    "for results in results_list:\n",
    "    df = pd.DataFrame(results)\n",
    "    max_counts = dict(df.idxmax(axis=1).value_counts())\n",
    "    bot_wins = {bot: max_counts.get(bot, 0)/len(df.index)*100 for bot in list(df.columns)}\n",
    "\n",
    "    display(pd.DataFrame(bot_wins, index=[\"% wins\"]).T)"
   ]
  },
  {
   "cell_type": "code",
   "execution_count": null,
   "metadata": {},
   "outputs": [],
   "source": []
  }
 ],
 "metadata": {
  "kernelspec": {
   "display_name": ".venv",
   "language": "python",
   "name": "python3"
  },
  "language_info": {
   "codemirror_mode": {
    "name": "ipython",
    "version": 3
   },
   "file_extension": ".py",
   "mimetype": "text/x-python",
   "name": "python",
   "nbconvert_exporter": "python",
   "pygments_lexer": "ipython3",
   "version": "3.10.13"
  }
 },
 "nbformat": 4,
 "nbformat_minor": 2
}
